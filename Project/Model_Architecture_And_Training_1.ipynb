{
  "nbformat": 4,
  "nbformat_minor": 0,
  "metadata": {
    "accelerator": "GPU",
    "colab": {
      "name": "Model_Architecture_And_Training.ipynb",
      "provenance": [],
      "collapsed_sections": [],
      "toc_visible": true
    },
    "kernelspec": {
      "display_name": "Python 3",
      "language": "python",
      "name": "python3"
    },
    "language_info": {
      "codemirror_mode": {
        "name": "ipython",
        "version": 3
      },
      "file_extension": ".py",
      "mimetype": "text/x-python",
      "name": "python",
      "nbconvert_exporter": "python",
      "pygments_lexer": "ipython3",
      "version": "3.6.10"
    }
  },
  "cells": [
    {
      "cell_type": "code",
      "metadata": {
        "id": "_-HlK8E2lf0q",
        "colab_type": "code",
        "colab": {
          "base_uri": "https://localhost:8080/",
          "height": 35
        },
        "outputId": "6f208ceb-2ee3-46e2-8947-f8cf6042f858"
      },
      "source": [
        "import tensorflow as tf\n",
        "tf.test.gpu_device_name()"
      ],
      "execution_count": 1,
      "outputs": [
        {
          "output_type": "execute_result",
          "data": {
            "application/vnd.google.colaboratory.intrinsic": {
              "type": "string"
            },
            "text/plain": [
              "'/device:GPU:0'"
            ]
          },
          "metadata": {
            "tags": []
          },
          "execution_count": 1
        }
      ]
    },
    {
      "cell_type": "code",
      "metadata": {
        "colab_type": "code",
        "id": "mPup6OS4KhTi",
        "colab": {
          "base_uri": "https://localhost:8080/",
          "height": 35
        },
        "outputId": "5d039e98-27b4-4c42-a84b-94bd8e3dab05"
      },
      "source": [
        "import glob\n",
        "import pickle\n",
        "import numpy\n",
        "from music21 import converter, instrument, note, chord, stream\n",
        "from keras.models import Sequential, load_model\n",
        "from keras.layers import Dense\n",
        "from keras.layers import Dropout\n",
        "from keras.layers import LSTM\n",
        "from keras.layers import Activation\n",
        "from keras.utils import np_utils\n",
        "from keras.callbacks import ModelCheckpoint, EarlyStopping"
      ],
      "execution_count": 2,
      "outputs": [
        {
          "output_type": "stream",
          "text": [
            "Using TensorFlow backend.\n"
          ],
          "name": "stderr"
        }
      ]
    },
    {
      "cell_type": "markdown",
      "metadata": {
        "colab_type": "text",
        "id": "ylcVTOVdKhT-"
      },
      "source": [
        "### loading Data"
      ]
    },
    {
      "cell_type": "code",
      "metadata": {
        "colab_type": "code",
        "id": "FGNCklQrKqGc",
        "colab": {
          "base_uri": "https://localhost:8080/",
          "height": 124
        },
        "outputId": "41ee251e-a886-48b3-cef2-8d352e462b20"
      },
      "source": [
        "from google.colab import drive\n",
        "drive.mount('/content/drive')"
      ],
      "execution_count": 3,
      "outputs": [
        {
          "output_type": "stream",
          "text": [
            "Go to this URL in a browser: https://accounts.google.com/o/oauth2/auth?client_id=947318989803-6bn6qk8qdgf4n4g3pfee6491hc0brc4i.apps.googleusercontent.com&redirect_uri=urn%3aietf%3awg%3aoauth%3a2.0%3aoob&response_type=code&scope=email%20https%3a%2f%2fwww.googleapis.com%2fauth%2fdocs.test%20https%3a%2f%2fwww.googleapis.com%2fauth%2fdrive%20https%3a%2f%2fwww.googleapis.com%2fauth%2fdrive.photos.readonly%20https%3a%2f%2fwww.googleapis.com%2fauth%2fpeopleapi.readonly\n",
            "\n",
            "Enter your authorization code:\n",
            "··········\n",
            "Mounted at /content/drive\n"
          ],
          "name": "stdout"
        }
      ]
    },
    {
      "cell_type": "code",
      "metadata": {
        "colab_type": "code",
        "id": "1Z-6F4nkKhUB",
        "colab": {}
      },
      "source": [
        "with open(\"/content/drive/My Drive/Files/network_input.pkl\", 'rb') as f:\n",
        "    network_input = pickle.load(f)\n",
        "with open(\"/content/drive/My Drive/Files/network_output.pkl\", 'rb') as f:\n",
        "    network_output = pickle.load(f)\n",
        "with open(\"/content/drive/My Drive/Files/notes.pkl\", 'rb') as f:\n",
        "    notes= pickle.load(f)"
      ],
      "execution_count": 4,
      "outputs": []
    },
    {
      "cell_type": "code",
      "metadata": {
        "colab_type": "code",
        "id": "DXv8nb3NKhUN",
        "colab": {}
      },
      "source": [
        "n_vocab = len(set(notes))"
      ],
      "execution_count": 5,
      "outputs": []
    },
    {
      "cell_type": "markdown",
      "metadata": {
        "colab_type": "text",
        "id": "RRy1V52BKhUY"
      },
      "source": [
        "## Create Model"
      ]
    },
    {
      "cell_type": "code",
      "metadata": {
        "colab_type": "code",
        "id": "gMEloHavKhUq",
        "colab": {}
      },
      "source": [
        "\"\"\" create the structure of the neural network \"\"\"\n",
        "model = Sequential()\n",
        "model.add(LSTM(512,\n",
        "            input_shape=(network_input.shape[1], network_input.shape[2]),\n",
        "            return_sequences=True ))\n",
        "model.add(Dropout(0.3))\n",
        "model.add(LSTM(512, return_sequences=True))\n",
        "model.add(Dropout(0.3))\n",
        "model.add(LSTM(512))\n",
        "model.add(Dropout(0.3))\n",
        "model.add(Dense(256))\n",
        "model.add(Dropout(0.3))\n",
        "model.add(Dense(n_vocab))\n",
        "model.add(Activation('softmax'))\n",
        "model.compile(optimizer=\"adamax\", loss='categorical_crossentropy')"
      ],
      "execution_count": 6,
      "outputs": []
    },
    {
      "cell_type": "code",
      "metadata": {
        "colab_type": "code",
        "id": "zTFyYaJ7KhVC",
        "colab": {
          "base_uri": "https://localhost:8080/",
          "height": 503
        },
        "outputId": "c9c3eef9-685a-431a-f187-28534ca69d2b"
      },
      "source": [
        "model.summary()"
      ],
      "execution_count": 7,
      "outputs": [
        {
          "output_type": "stream",
          "text": [
            "Model: \"sequential_1\"\n",
            "_________________________________________________________________\n",
            "Layer (type)                 Output Shape              Param #   \n",
            "=================================================================\n",
            "lstm_1 (LSTM)                (None, 100, 512)          1052672   \n",
            "_________________________________________________________________\n",
            "dropout_1 (Dropout)          (None, 100, 512)          0         \n",
            "_________________________________________________________________\n",
            "lstm_2 (LSTM)                (None, 100, 512)          2099200   \n",
            "_________________________________________________________________\n",
            "dropout_2 (Dropout)          (None, 100, 512)          0         \n",
            "_________________________________________________________________\n",
            "lstm_3 (LSTM)                (None, 512)               2099200   \n",
            "_________________________________________________________________\n",
            "dropout_3 (Dropout)          (None, 512)               0         \n",
            "_________________________________________________________________\n",
            "dense_1 (Dense)              (None, 256)               131328    \n",
            "_________________________________________________________________\n",
            "dropout_4 (Dropout)          (None, 256)               0         \n",
            "_________________________________________________________________\n",
            "dense_2 (Dense)              (None, 359)               92263     \n",
            "_________________________________________________________________\n",
            "activation_1 (Activation)    (None, 359)               0         \n",
            "=================================================================\n",
            "Total params: 5,474,663\n",
            "Trainable params: 5,474,663\n",
            "Non-trainable params: 0\n",
            "_________________________________________________________________\n"
          ],
          "name": "stdout"
        }
      ]
    },
    {
      "cell_type": "code",
      "metadata": {
        "id": "OLwENuk0lbS8",
        "colab_type": "code",
        "colab": {
          "base_uri": "https://localhost:8080/",
          "height": 1000
        },
        "outputId": "028912a3-31cd-4de2-8854-deaae73f2ddf"
      },
      "source": [
        "\"\"\" train the neural network \"\"\"\n",
        "\n",
        "filepath = \"/content/drive/My Drive/model/weights-improvement-{epoch:02d}-{loss:.4f}-bigger.hdf5\"\n",
        "\n",
        "checkpoint = ModelCheckpoint(\n",
        "    filepath,\n",
        "    monitor='loss',\n",
        "    verbose=0,\n",
        "    save_best_only=True,\n",
        "    mode='min')\n",
        "\n",
        "callbacks_list = [checkpoint]\n",
        "\n",
        "model_his = model.fit(network_input, network_output, epochs=100, batch_size=64, callbacks=callbacks_list)"
      ],
      "execution_count": null,
      "outputs": [
        {
          "output_type": "stream",
          "text": [
            "Epoch 1/100\n",
            "60398/60398 [==============================] - 760s 13ms/step - loss: 4.7168\n",
            "Epoch 2/100\n",
            "60398/60398 [==============================] - 775s 13ms/step - loss: 4.5663\n",
            "Epoch 3/100\n",
            "60398/60398 [==============================] - 775s 13ms/step - loss: 4.5092\n",
            "Epoch 4/100\n",
            "60398/60398 [==============================] - 769s 13ms/step - loss: 4.4492\n",
            "Epoch 5/100\n",
            "60398/60398 [==============================] - 768s 13ms/step - loss: 4.3424\n",
            "Epoch 6/100\n",
            "60398/60398 [==============================] - 775s 13ms/step - loss: 4.2173\n",
            "Epoch 7/100\n",
            "60398/60398 [==============================] - 773s 13ms/step - loss: 4.0821\n",
            "Epoch 8/100\n",
            "60398/60398 [==============================] - 772s 13ms/step - loss: 3.9045\n",
            "Epoch 9/100\n",
            "60398/60398 [==============================] - 775s 13ms/step - loss: 3.7196\n",
            "Epoch 10/100\n",
            "60398/60398 [==============================] - 784s 13ms/step - loss: 3.5320\n",
            "Epoch 11/100\n",
            "60398/60398 [==============================] - 774s 13ms/step - loss: 3.3437\n",
            "Epoch 12/100\n",
            "60398/60398 [==============================] - 776s 13ms/step - loss: 3.1631\n",
            "Epoch 13/100\n",
            "60398/60398 [==============================] - 776s 13ms/step - loss: 2.9935\n",
            "Epoch 14/100\n",
            "60398/60398 [==============================] - 777s 13ms/step - loss: 2.8267\n",
            "Epoch 15/100\n",
            "60398/60398 [==============================] - 777s 13ms/step - loss: 2.6758\n",
            "Epoch 16/100\n",
            "60398/60398 [==============================] - 774s 13ms/step - loss: 2.5312\n",
            "Epoch 17/100\n",
            "60398/60398 [==============================] - 777s 13ms/step - loss: 2.4178\n",
            "Epoch 18/100\n",
            "60398/60398 [==============================] - 774s 13ms/step - loss: 2.2870\n",
            "Epoch 19/100\n",
            "60398/60398 [==============================] - 775s 13ms/step - loss: 2.1773\n",
            "Epoch 20/100\n",
            "60398/60398 [==============================] - 777s 13ms/step - loss: 2.0635\n",
            "Epoch 21/100\n",
            "60398/60398 [==============================] - 774s 13ms/step - loss: 1.9696\n",
            "Epoch 22/100\n",
            "60398/60398 [==============================] - 772s 13ms/step - loss: 1.8662\n",
            "Epoch 23/100\n",
            "60398/60398 [==============================] - 772s 13ms/step - loss: 1.7771\n",
            "Epoch 24/100\n",
            "60398/60398 [==============================] - 776s 13ms/step - loss: 1.6868\n",
            "Epoch 25/100\n",
            "60398/60398 [==============================] - 774s 13ms/step - loss: 1.6132\n",
            "Epoch 26/100\n",
            "60398/60398 [==============================] - 770s 13ms/step - loss: 1.5408\n",
            "Epoch 27/100\n",
            "60398/60398 [==============================] - 763s 13ms/step - loss: 1.4677\n",
            "Epoch 28/100\n",
            "60398/60398 [==============================] - 765s 13ms/step - loss: 1.3965\n",
            "Epoch 29/100\n",
            "60398/60398 [==============================] - 767s 13ms/step - loss: 1.3351\n",
            "Epoch 30/100\n",
            "60398/60398 [==============================] - 766s 13ms/step - loss: 1.2660\n",
            "Epoch 31/100\n",
            "60398/60398 [==============================] - 762s 13ms/step - loss: 1.2080\n",
            "Epoch 32/100\n",
            "60398/60398 [==============================] - 765s 13ms/step - loss: 1.1667\n",
            "Epoch 33/100\n",
            "60398/60398 [==============================] - 764s 13ms/step - loss: 1.1102\n",
            "Epoch 34/100\n",
            "60398/60398 [==============================] - 764s 13ms/step - loss: 1.0644\n",
            "Epoch 35/100\n",
            "60398/60398 [==============================] - 764s 13ms/step - loss: 1.0135\n",
            "Epoch 36/100\n",
            "60398/60398 [==============================] - 765s 13ms/step - loss: 0.9801\n",
            "Epoch 37/100\n",
            "60398/60398 [==============================] - 764s 13ms/step - loss: 0.9229\n",
            "Epoch 38/100\n",
            "60398/60398 [==============================] - 763s 13ms/step - loss: 0.8970\n",
            "Epoch 39/100\n",
            "60398/60398 [==============================] - 763s 13ms/step - loss: 0.8627\n",
            "Epoch 40/100\n",
            "60398/60398 [==============================] - 763s 13ms/step - loss: 0.8286\n",
            "Epoch 41/100\n",
            "60398/60398 [==============================] - 764s 13ms/step - loss: 0.8011\n",
            "Epoch 42/100\n",
            "60398/60398 [==============================] - 762s 13ms/step - loss: 0.7637\n",
            "Epoch 43/100\n",
            "60398/60398 [==============================] - 764s 13ms/step - loss: 0.7435\n",
            "Epoch 44/100\n",
            "60398/60398 [==============================] - 765s 13ms/step - loss: 0.7138\n",
            "Epoch 45/100\n",
            "60398/60398 [==============================] - 764s 13ms/step - loss: 0.6938\n",
            "Epoch 46/100\n",
            "60398/60398 [==============================] - 766s 13ms/step - loss: 0.6686\n",
            "Epoch 47/100\n",
            "46400/60398 [======================>.......] - ETA: 2:58 - loss: 0.6244"
          ],
          "name": "stdout"
        }
      ]
    },
    {
      "cell_type": "code",
      "metadata": {
        "colab_type": "code",
        "id": "zdFFKYF1KhVY",
        "colab": {}
      },
      "source": [
        ""
      ],
      "execution_count": null,
      "outputs": []
    }
  ]
}