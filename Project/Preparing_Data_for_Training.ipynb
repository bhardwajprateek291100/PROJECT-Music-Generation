{
 "cells": [
  {
   "cell_type": "code",
   "execution_count": 1,
   "metadata": {},
   "outputs": [
    {
     "name": "stderr",
     "output_type": "stream",
     "text": [
      "Using TensorFlow backend.\n"
     ]
    }
   ],
   "source": [
    "from music21 import converter, instrument, note, chord, stream\n",
    "import glob\n",
    "import pickle\n",
    "import numpy as np\n",
    "from keras.utils import np_utils"
   ]
  },
  {
   "cell_type": "markdown",
   "metadata": {},
   "source": [
    "### Loading Data"
   ]
  },
  {
   "cell_type": "code",
   "execution_count": 2,
   "metadata": {},
   "outputs": [],
   "source": [
    "with open(\"./Files/notes.pkl\", 'rb') as f:\n",
    "    notes= pickle.load(f)"
   ]
  },
  {
   "cell_type": "code",
   "execution_count": 3,
   "metadata": {},
   "outputs": [],
   "source": [
    "n_vocab = len(set(notes))"
   ]
  },
  {
   "cell_type": "code",
   "execution_count": 4,
   "metadata": {},
   "outputs": [
    {
     "name": "stdout",
     "output_type": "stream",
     "text": [
      "Total notes-  60498\n",
      "Unique notes-  359\n"
     ]
    }
   ],
   "source": [
    "print(\"Total notes- \", len(notes))\n",
    "print(\"Unique notes- \",  n_vocab)"
   ]
  },
  {
   "cell_type": "code",
   "execution_count": 5,
   "metadata": {},
   "outputs": [
    {
     "name": "stdout",
     "output_type": "stream",
     "text": [
      "['4+9', 'E2', '4+9', '4+9', '4+9', '4+9', '4+9', '4+9', '4+9', '11+4', '4+9', '11+4', '4+9', '4+9', '4+9', '4+9', '4+9', '0+4', 'E2', '4+9', '0+4', '4+9', '4+9', '4+9', '4+9', '4+9', '9+2', '4+9', '9+2', '9+2', '4+9', '4+9', '4+9', '4+9', '4+9', '4+9', 'E2', '4+9', '4+9', '4+9', '4+9', '4+9', 'E5', 'F5', 'G#5', 'A5', '4+9', '4+9', '5+11', '4+9', '5+11', '4+9', '4+9', '4+9', 'E5', 'F5', 'G#5', 'A5', '4+9', '4+9', '9+0', 'E2', '4+9', '9+0', '4+9', '4+9', '4+9', 'E5', 'F5', 'G#5', 'A5', '4+9', '4+9', '11+2', '4+9', '11+2', '11+2', '4+9', '4+9', '4+9', 'E5', 'F5', 'G#5', 'A5', '4+9', '4+9', '3+7+11', 'E-2', '3+7+11', 'B2', 'G2', '1+5+9', 'F#2', '1+5+9', '3+7+11', 'E-2', '3+7+11', 'G2', 'B2', 'E-3']\n"
     ]
    }
   ],
   "source": [
    "# notes is a list of all the notes in each music file - 60000\n",
    "print(notes[:100])"
   ]
  },
  {
   "cell_type": "markdown",
   "metadata": {},
   "source": [
    "## Prepare Sequential Data for LSTM"
   ]
  },
  {
   "cell_type": "code",
   "execution_count": 6,
   "metadata": {},
   "outputs": [],
   "source": [
    "# Hoe many elements LSTM input should consider\n",
    "sequence_length = 100"
   ]
  },
  {
   "cell_type": "code",
   "execution_count": 7,
   "metadata": {},
   "outputs": [],
   "source": [
    "# ALl the unique elements in a sorted manner\n",
    "pitchnames = sorted(set(item for item in notes))"
   ]
  },
  {
   "cell_type": "code",
   "execution_count": 8,
   "metadata": {},
   "outputs": [
    {
     "name": "stdout",
     "output_type": "stream",
     "text": [
      "{'0': 0, '0+1': 1, '0+1+5': 2, '0+1+6': 3, '0+2': 4, '0+2+3+7': 5, '0+2+4+7': 6, '0+2+5': 7, '0+2+6': 8, '0+2+7': 9, '0+3': 10, '0+3+5': 11, '0+3+5+8': 12, '0+3+6': 13, '0+3+6+8': 14, '0+3+6+9': 15, '0+3+7': 16, '0+4': 17, '0+4+5': 18, '0+4+6': 19, '0+4+7': 20, '0+5': 21, '0+5+6': 22, '0+6': 23, '1': 24, '1+2': 25, '1+2+4+6+8+10': 26, '1+2+6': 27, '1+2+6+8': 28, '1+3': 29, '1+3+5': 30, '1+3+5+8': 31, '1+3+6': 32, '1+3+7': 33, '1+3+8': 34, '1+4': 35, '1+4+6': 36, '1+4+6+9': 37, '1+4+7': 38, '1+4+7+10': 39, '1+4+7+9': 40, '1+4+8': 41, '1+5': 42, '1+5+8': 43, '1+5+9': 44, '1+6': 45, '1+7': 46, '10': 47, '10+0': 48, '10+0+2+5': 49, '10+0+3': 50, '10+0+4': 51, '10+0+5': 52, '10+1': 53, '10+1+3': 54, '10+1+3+5+6': 55, '10+1+3+6': 56, '10+1+4': 57, '10+1+4+6': 58, '10+1+5': 59, '10+11': 60, '10+11+3': 61, '10+11+3+5': 62, '10+2': 63, '10+2+3': 64, '10+2+4': 65, '10+2+5': 66, '10+3': 67, '11': 68, '11+0': 69, '11+0+4': 70, '11+0+4+6': 71, '11+0+4+7': 72, '11+0+5': 73, '11+1': 74, '11+1+4': 75, '11+1+4+5': 76, '11+1+5': 77, '11+1+6': 78, '11+2': 79, '11+2+4': 80, '11+2+4+6': 81, '11+2+4+7': 82, '11+2+5': 83, '11+2+5+7': 84, '11+2+6': 85, '11+3': 86, '11+3+5': 87, '11+3+6': 88, '11+4': 89, '11+4+5': 90, '2': 91, '2+3': 92, '2+3+7': 93, '2+3+7+10': 94, '2+3+7+9': 95, '2+4': 96, '2+4+5': 97, '2+4+5+9': 98, '2+4+6+9+11': 99, '2+4+7': 100, '2+4+7+10': 101, '2+4+8': 102, '2+4+9': 103, '2+5': 104, '2+5+7': 105, '2+5+7+10': 106, '2+5+8': 107, '2+5+8+10': 108, '2+5+8+11': 109, '2+5+9': 110, '2+6': 111, '2+6+10': 112, '2+6+7': 113, '2+6+7+9': 114, '2+6+9': 115, '2+7': 116, '2+7+8': 117, '2+8': 118, '3': 119, '3+4': 120, '3+4+8': 121, '3+4+8+10': 122, '3+5': 123, '3+5+10': 124, '3+5+7': 125, '3+5+7+10': 126, '3+5+7+8+11': 127, '3+5+8': 128, '3+5+8+11': 129, '3+6': 130, '3+6+10': 131, '3+6+7': 132, '3+6+8': 133, '3+6+9+11': 134, '3+7': 135, '3+7+10': 136, '3+7+11': 137, '3+7+9': 138, '3+7+9+10': 139, '3+8': 140, '3+8+9': 141, '3+9': 142, '4': 143, '4+10': 144, '4+5': 145, '4+5+7+11': 146, '4+5+9': 147, '4+5+9+0': 148, '4+5+9+11': 149, '4+6': 150, '4+6+10': 151, '4+6+11': 152, '4+6+7': 153, '4+6+8': 154, '4+6+8+11+1': 155, '4+6+9': 156, '4+6+9+11': 157, '4+7': 158, '4+7+10': 159, '4+7+11': 160, '4+7+9': 161, '4+7+9+0': 162, '4+7+9+11': 163, '4+8': 164, '4+8+10': 165, '4+8+11': 166, '4+8+9': 167, '4+8+9+11': 168, '4+9': 169, '4+9+10': 170, '5': 171, '5+10': 172, '5+10+11': 173, '5+11': 174, '5+6': 175, '5+7': 176, '5+7+0': 177, '5+7+10': 178, '5+7+8+0': 179, '5+8': 180, '5+8+0': 181, '5+8+10': 182, '5+8+11': 183, '5+9': 184, '5+9+0': 185, '5+9+11': 186, '5+9+11+0': 187, '6': 188, '6+10': 189, '6+10+0': 190, '6+10+1': 191, '6+10+11': 192, '6+10+11+1': 193, '6+11': 194, '6+11+0': 195, '6+7': 196, '6+7+0': 197, '6+7+11': 198, '6+7+11+2': 199, '6+8': 200, '6+8+0': 201, '6+8+1': 202, '6+8+10': 203, '6+8+10+0+3': 204, '6+8+11': 205, '6+8+11+2': 206, '6+9': 207, '6+9+0': 208, '6+9+0+2': 209, '6+9+1': 210, '6+9+11': 211, '6+9+11+2': 212, '7': 213, '7+0': 214, '7+10': 215, '7+10+0': 216, '7+10+0+3': 217, '7+10+1': 218, '7+10+1+3': 219, '7+10+2': 220, '7+11': 221, '7+11+0': 222, '7+11+2': 223, '7+8': 224, '7+8+0': 225, '7+8+0+3': 226, '7+8+10+2': 227, '7+8+11': 228, '7+9': 229, '7+9+0': 230, '7+9+1': 231, '7+9+11': 232, '7+9+11+2': 233, '7+9+2': 234, '8': 235, '8+0': 236, '8+0+1': 237, '8+0+2': 238, '8+0+3': 239, '8+1': 240, '8+10': 241, '8+10+0': 242, '8+10+1': 243, '8+10+11+1+4': 244, '8+10+11+3': 245, '8+10+2': 246, '8+10+3': 247, '8+11': 248, '8+11+1': 249, '8+11+1+4': 250, '8+11+2': 251, '8+11+3': 252, '8+9': 253, '8+9+1': 254, '8+9+1+3': 255, '8+9+1+4': 256, '8+9+11+1': 257, '8+9+2': 258, '9': 259, '9+0': 260, '9+0+2': 261, '9+0+2+4': 262, '9+0+2+5': 263, '9+0+3': 264, '9+0+3+5': 265, '9+0+4': 266, '9+1': 267, '9+1+4': 268, '9+10': 269, '9+10+2': 270, '9+10+2+4': 271, '9+11': 272, '9+11+0+4': 273, '9+11+1': 274, '9+11+2': 275, '9+11+2+4': 276, '9+11+2+5': 277, '9+11+3': 278, '9+11+4': 279, '9+2': 280, '9+2+3': 281, 'A0': 282, 'A1': 283, 'A2': 284, 'A3': 285, 'A4': 286, 'A5': 287, 'A6': 288, 'B-1': 289, 'B-2': 290, 'B-3': 291, 'B-4': 292, 'B-5': 293, 'B-6': 294, 'B0': 295, 'B1': 296, 'B2': 297, 'B3': 298, 'B4': 299, 'B5': 300, 'B6': 301, 'C#1': 302, 'C#2': 303, 'C#3': 304, 'C#4': 305, 'C#5': 306, 'C#6': 307, 'C#7': 308, 'C1': 309, 'C2': 310, 'C3': 311, 'C4': 312, 'C5': 313, 'C6': 314, 'C7': 315, 'D1': 316, 'D2': 317, 'D3': 318, 'D4': 319, 'D5': 320, 'D6': 321, 'D7': 322, 'E-1': 323, 'E-2': 324, 'E-3': 325, 'E-4': 326, 'E-5': 327, 'E-6': 328, 'E1': 329, 'E2': 330, 'E3': 331, 'E4': 332, 'E5': 333, 'E6': 334, 'F#1': 335, 'F#2': 336, 'F#3': 337, 'F#4': 338, 'F#5': 339, 'F#6': 340, 'F1': 341, 'F2': 342, 'F3': 343, 'F4': 344, 'F5': 345, 'F6': 346, 'G#1': 347, 'G#2': 348, 'G#3': 349, 'G#4': 350, 'G#5': 351, 'G#6': 352, 'G1': 353, 'G2': 354, 'G3': 355, 'G4': 356, 'G5': 357, 'G6': 358}\n"
     ]
    }
   ],
   "source": [
    "# Mapping between note to int value\n",
    "note_to_int = dict((note, number) for number, note in enumerate(pitchnames))\n",
    "print(note_to_int)"
   ]
  },
  {
   "cell_type": "code",
   "execution_count": 9,
   "metadata": {},
   "outputs": [],
   "source": [
    "network_input = []\n",
    "network_output = []"
   ]
  },
  {
   "cell_type": "code",
   "execution_count": 10,
   "metadata": {},
   "outputs": [],
   "source": [
    "# Make the data for LSTM Network\n",
    "# Each Node will contain 100 input units\n",
    "# Output will be the next unit in notes list\n",
    "\n",
    "for i in range(0, len(notes) - sequence_length, 1):\n",
    "    \n",
    "    sequence_in = notes[i:i + sequence_length] # contains 100 values \n",
    "    sequence_out = notes[i + sequence_length] # containes next values for these 100's\n",
    "    \n",
    "    # Since NN works with numeric data only, append the int values for inputs and outputs.\n",
    "    network_input.append([note_to_int[char] for char in sequence_in])\n",
    "    network_output.append(note_to_int[sequence_out])"
   ]
  },
  {
   "cell_type": "code",
   "execution_count": 11,
   "metadata": {},
   "outputs": [
    {
     "name": "stdout",
     "output_type": "stream",
     "text": [
      "60398\n"
     ]
    }
   ],
   "source": [
    "# No. of examples for our network\n",
    "\n",
    "n_patterns = len(network_input)\n",
    "print(n_patterns)"
   ]
  },
  {
   "cell_type": "code",
   "execution_count": 13,
   "metadata": {},
   "outputs": [
    {
     "name": "stdout",
     "output_type": "stream",
     "text": [
      "(60398, 100, 1)\n"
     ]
    }
   ],
   "source": [
    "# now network_input is lits, but reshape it into a format compatible with LSTM layers\n",
    "network_input = np.reshape(network_input, (n_patterns, sequence_length, 1))\n",
    "print(network_input.shape)"
   ]
  },
  {
   "cell_type": "code",
   "execution_count": 14,
   "metadata": {},
   "outputs": [],
   "source": [
    "normalised_network_input = network_input/float(n_vocab)"
   ]
  },
  {
   "cell_type": "code",
   "execution_count": 15,
   "metadata": {},
   "outputs": [],
   "source": [
    "# network_output are the classes, encode one_hot_vector\n",
    "network_output = np_utils.to_categorical(network_output)"
   ]
  },
  {
   "cell_type": "code",
   "execution_count": 16,
   "metadata": {},
   "outputs": [
    {
     "name": "stdout",
     "output_type": "stream",
     "text": [
      "(60398, 359)\n",
      "(60398, 100, 1)\n"
     ]
    }
   ],
   "source": [
    "print(network_output.shape)\n",
    "print(normalised_network_input.shape)"
   ]
  },
  {
   "cell_type": "markdown",
   "metadata": {},
   "source": [
    "### Store the Info."
   ]
  },
  {
   "cell_type": "code",
   "execution_count": 17,
   "metadata": {},
   "outputs": [],
   "source": [
    "with open(\"./Files/network_input.pkl\", \"wb\") as f:\n",
    "    pickle.dump(normalised_network_input, f)\n",
    "    \n",
    "with open(\"./Files/network_output.pkl\", \"wb\") as f:\n",
    "    pickle.dump(network_output, f)"
   ]
  },
  {
   "cell_type": "code",
   "execution_count": null,
   "metadata": {},
   "outputs": [],
   "source": []
  }
 ],
 "metadata": {
  "kernelspec": {
   "display_name": "Python 3",
   "language": "python",
   "name": "python3"
  },
  "language_info": {
   "codemirror_mode": {
    "name": "ipython",
    "version": 3
   },
   "file_extension": ".py",
   "mimetype": "text/x-python",
   "name": "python",
   "nbconvert_exporter": "python",
   "pygments_lexer": "ipython3",
   "version": "3.6.10"
  }
 },
 "nbformat": 4,
 "nbformat_minor": 2
}
