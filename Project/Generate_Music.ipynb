{
 "cells": [
  {
   "cell_type": "code",
   "execution_count": 1,
   "metadata": {},
   "outputs": [
    {
     "name": "stderr",
     "output_type": "stream",
     "text": [
      "Using TensorFlow backend.\n"
     ]
    }
   ],
   "source": [
    "import glob\n",
    "import pickle\n",
    "import numpy as np\n",
    "from music21 import converter, instrument, note, chord, stream\n",
    "from keras.models import load_model"
   ]
  },
  {
   "cell_type": "markdown",
   "metadata": {},
   "source": [
    "## Load Data"
   ]
  },
  {
   "cell_type": "code",
   "execution_count": 2,
   "metadata": {},
   "outputs": [],
   "source": [
    "with open(\"./Files/notes.pkl\", 'rb') as f:\n",
    "    notes= pickle.load(f)"
   ]
  },
  {
   "cell_type": "code",
   "execution_count": 3,
   "metadata": {},
   "outputs": [],
   "source": [
    "n_vocab = len(set(notes))"
   ]
  },
  {
   "cell_type": "code",
   "execution_count": 4,
   "metadata": {},
   "outputs": [],
   "source": [
    "# ALl the unique elements in a sorted manner\n",
    "pitchnames = sorted(set(item for item in notes))"
   ]
  },
  {
   "cell_type": "code",
   "execution_count": 5,
   "metadata": {},
   "outputs": [],
   "source": [
    "# Mapping between note to int value\n",
    "ele_to_int = dict((note, number) for number, note in enumerate(pitchnames))"
   ]
  },
  {
   "cell_type": "markdown",
   "metadata": {},
   "source": [
    "## Load Model"
   ]
  },
  {
   "cell_type": "code",
   "execution_count": 6,
   "metadata": {},
   "outputs": [
    {
     "name": "stdout",
     "output_type": "stream",
     "text": [
      "WARNING:tensorflow:From C:\\Users\\bhard\\anaconda3\\envs\\tensorflow_1x_env\\lib\\site-packages\\tensorflow_core\\python\\ops\\resource_variable_ops.py:1630: calling BaseResourceVariable.__init__ (from tensorflow.python.ops.resource_variable_ops) with constraint is deprecated and will be removed in a future version.\n",
      "Instructions for updating:\n",
      "If using Keras pass *_constraint arguments to layers.\n",
      "WARNING:tensorflow:From C:\\Users\\bhard\\anaconda3\\envs\\tensorflow_1x_env\\lib\\site-packages\\keras\\backend\\tensorflow_backend.py:422: The name tf.global_variables is deprecated. Please use tf.compat.v1.global_variables instead.\n",
      "\n"
     ]
    }
   ],
   "source": [
    "\n",
    "model = load_model(\"./Model/weights-improvement-41-0.8011-bigger.hdf5\")"
   ]
  },
  {
   "cell_type": "markdown",
   "metadata": {},
   "source": [
    "# Predictions"
   ]
  },
  {
   "cell_type": "code",
   "execution_count": 7,
   "metadata": {},
   "outputs": [],
   "source": [
    "sequence_length = 100\n",
    "network_input = []\n",
    "\n",
    "for i in range(len(notes) - sequence_length):\n",
    "    seq_in = notes[i : i+sequence_length] # contains 100 values\n",
    "    network_input.append([ele_to_int[ch] for ch in seq_in])"
   ]
  },
  {
   "cell_type": "code",
   "execution_count": 8,
   "metadata": {},
   "outputs": [],
   "source": [
    "# Any random start index\n",
    "start = np.random.randint(len(network_input) - 1)\n",
    "\n",
    "# Mapping int_to_ele\n",
    "int_to_ele = dict((num, ele) for num, ele in enumerate(pitchnames))"
   ]
  },
  {
   "cell_type": "code",
   "execution_count": 9,
   "metadata": {},
   "outputs": [],
   "source": [
    "# Initial pattern \n",
    "pattern = network_input[start]\n",
    "prediction_output = []\n",
    "\n",
    "# generate 200 elements\n",
    "for note_index in range(200):\n",
    "    prediction_input = np.reshape(pattern, (1, len(pattern), 1)) # convert into numpy desired shape \n",
    "    prediction_input = prediction_input/float(n_vocab) # normalise\n",
    "    \n",
    "    prediction =  model.predict(prediction_input, verbose=0)\n",
    "    \n",
    "    idx = np.argmax(prediction)\n",
    "    result = int_to_ele[idx]\n",
    "    prediction_output.append(result) \n",
    "    \n",
    "    # Remove the first value, and append the recent value.. \n",
    "    # This way input is moving forward step-by-step with time..\n",
    "    pattern.append(idx)\n",
    "    pattern = pattern[1:]"
   ]
  },
  {
   "cell_type": "code",
   "execution_count": 10,
   "metadata": {},
   "outputs": [
    {
     "data": {
      "text/plain": [
       "['E3',\n",
       " '9+0+4',\n",
       " 'E3',\n",
       " 'E3',\n",
       " 'D3',\n",
       " '0+4',\n",
       " 'C3',\n",
       " 'E3',\n",
       " '0+2+7',\n",
       " 'F3',\n",
       " '0+4+7',\n",
       " 'E3',\n",
       " '4+7+9+0',\n",
       " 'F2',\n",
       " 'C3',\n",
       " '5+9+0',\n",
       " 'G3',\n",
       " 'C3',\n",
       " 'F3',\n",
       " 'C4',\n",
       " 'C3',\n",
       " 'F3',\n",
       " 'A3',\n",
       " 'F3',\n",
       " 'C3',\n",
       " 'E3',\n",
       " 'A3',\n",
       " 'E3',\n",
       " 'D3',\n",
       " 'C3',\n",
       " 'G3',\n",
       " '2+5',\n",
       " 'D3',\n",
       " 'D3',\n",
       " 'D3',\n",
       " 'F3',\n",
       " '5+9',\n",
       " 'D3',\n",
       " 'F3',\n",
       " 'D3',\n",
       " 'F3',\n",
       " '2',\n",
       " 'G2',\n",
       " 'D3',\n",
       " 'D3',\n",
       " 'E3',\n",
       " 'A4',\n",
       " 'G3',\n",
       " 'A4',\n",
       " 'F3',\n",
       " 'G3',\n",
       " 'D3',\n",
       " 'G3',\n",
       " '0+4',\n",
       " 'D4',\n",
       " 'D3',\n",
       " 'D3',\n",
       " 'D3',\n",
       " 'D3',\n",
       " 'G3',\n",
       " 'D3',\n",
       " 'E4',\n",
       " 'D3',\n",
       " 'G3',\n",
       " 'C4',\n",
       " '0+4',\n",
       " 'E4',\n",
       " 'E3',\n",
       " 'A4',\n",
       " 'D3',\n",
       " 'E3',\n",
       " 'D4',\n",
       " 'B4',\n",
       " 'F#4',\n",
       " 'D3',\n",
       " 'F3',\n",
       " 'C5',\n",
       " '0+4',\n",
       " 'E4',\n",
       " 'E3',\n",
       " 'C5',\n",
       " 'G4',\n",
       " 'G4',\n",
       " 'B4',\n",
       " 'G4',\n",
       " 'B-4',\n",
       " 'G3',\n",
       " 'G3',\n",
       " 'C5',\n",
       " '2+7',\n",
       " 'E4',\n",
       " 'A4',\n",
       " 'D3',\n",
       " 'F3',\n",
       " 'G4',\n",
       " 'D3',\n",
       " 'F3',\n",
       " 'F4',\n",
       " 'D3',\n",
       " 'F3',\n",
       " 'E4',\n",
       " '0+4',\n",
       " 'E4',\n",
       " 'G3',\n",
       " 'F4',\n",
       " 'G4',\n",
       " 'E3',\n",
       " 'G3',\n",
       " 'E3',\n",
       " 'G4',\n",
       " 'G3',\n",
       " 'A4',\n",
       " 'G4',\n",
       " 'A4',\n",
       " 'G3',\n",
       " 'C5',\n",
       " 'G3',\n",
       " 'C5',\n",
       " 'C5',\n",
       " 'B4',\n",
       " 'G3',\n",
       " 'C5',\n",
       " '0+4',\n",
       " 'D5',\n",
       " 'E3',\n",
       " 'D5',\n",
       " 'D5',\n",
       " 'E3',\n",
       " 'G3',\n",
       " 'E3',\n",
       " 'E3',\n",
       " 'E3',\n",
       " 'G3',\n",
       " 'C5',\n",
       " '0+4',\n",
       " 'F3',\n",
       " 'E3',\n",
       " 'C5',\n",
       " 'D3',\n",
       " 'G3',\n",
       " 'G4',\n",
       " 'D3',\n",
       " 'E3',\n",
       " 'E3',\n",
       " 'F3',\n",
       " 'C5',\n",
       " '0+4',\n",
       " 'E4',\n",
       " 'G3',\n",
       " 'C5',\n",
       " 'D3',\n",
       " 'E3',\n",
       " 'G3',\n",
       " 'C5',\n",
       " 'E3',\n",
       " 'E4',\n",
       " 'F3',\n",
       " 'C5',\n",
       " '0+4',\n",
       " 'E4',\n",
       " 'E3',\n",
       " 'C5',\n",
       " 'D3',\n",
       " 'E3',\n",
       " 'G3',\n",
       " 'E4',\n",
       " 'B4',\n",
       " 'F3',\n",
       " 'E4',\n",
       " '0+4',\n",
       " 'F3',\n",
       " 'G3',\n",
       " 'C5',\n",
       " 'G4',\n",
       " 'E3',\n",
       " 'G3',\n",
       " 'E3',\n",
       " 'G4',\n",
       " 'G4',\n",
       " 'C5',\n",
       " 'E3',\n",
       " 'G4',\n",
       " 'G3',\n",
       " 'B-4',\n",
       " 'E3',\n",
       " 'B-4',\n",
       " 'G3',\n",
       " 'C5',\n",
       " 'E3',\n",
       " 'C5',\n",
       " 'G3',\n",
       " 'C5',\n",
       " 'G3',\n",
       " 'G4',\n",
       " '0+4',\n",
       " 'D5',\n",
       " 'E3',\n",
       " 'D5',\n",
       " 'E3',\n",
       " 'E3']"
      ]
     },
     "execution_count": 10,
     "metadata": {},
     "output_type": "execute_result"
    }
   ],
   "source": [
    "prediction_output"
   ]
  },
  {
   "cell_type": "markdown",
   "metadata": {},
   "source": [
    "## Create Midi File"
   ]
  },
  {
   "cell_type": "code",
   "execution_count": 11,
   "metadata": {},
   "outputs": [],
   "source": [
    "offset = 0 # Time\n",
    "output_notes = []\n",
    "\n",
    "for pattern in prediction_output:\n",
    "    \n",
    "    # if the pattern is a chord\n",
    "    if ('+' in pattern) or pattern.isdigit():\n",
    "        notes_in_chord = pattern.split('+')\n",
    "        temp_notes = []\n",
    "        for current_note in notes_in_chord:\n",
    "            new_note = note.Note(int(current_note))  # create Note object for each note in the chord\n",
    "            new_note.storedInstrument = instrument.Piano()\n",
    "            temp_notes.append(new_note)\n",
    "            \n",
    "        \n",
    "        new_chord = chord.Chord(temp_notes) # creates the chord() from the list of notes\n",
    "        new_chord.offset = offset\n",
    "        output_notes.append(new_chord)\n",
    "    \n",
    "    else:\n",
    "            # if the pattern is a note\n",
    "        new_note = note.Note(pattern)\n",
    "        new_note.offset = offset\n",
    "        new_note.storedInstrument = instrument.Piano()\n",
    "        output_notes.append(new_note)\n",
    "    \n",
    "    ## can change according to listening music but giving equal to everyone\n",
    "    offset += 0.5"
   ]
  },
  {
   "cell_type": "code",
   "execution_count": 12,
   "metadata": {},
   "outputs": [
    {
     "name": "stdout",
     "output_type": "stream",
     "text": [
      "[<music21.note.Note E>, <music21.chord.Chord A C E>, <music21.note.Note E>, <music21.note.Note E>, <music21.note.Note D>, <music21.chord.Chord C E>, <music21.note.Note C>, <music21.note.Note E>, <music21.chord.Chord C D G>, <music21.note.Note F>, <music21.chord.Chord C E G>, <music21.note.Note E>, <music21.chord.Chord E G A C>, <music21.note.Note F>, <music21.note.Note C>, <music21.chord.Chord F A C>, <music21.note.Note G>, <music21.note.Note C>, <music21.note.Note F>, <music21.note.Note C>, <music21.note.Note C>, <music21.note.Note F>, <music21.note.Note A>, <music21.note.Note F>, <music21.note.Note C>, <music21.note.Note E>, <music21.note.Note A>, <music21.note.Note E>, <music21.note.Note D>, <music21.note.Note C>, <music21.note.Note G>, <music21.chord.Chord D F>, <music21.note.Note D>, <music21.note.Note D>, <music21.note.Note D>, <music21.note.Note F>, <music21.chord.Chord F A>, <music21.note.Note D>, <music21.note.Note F>, <music21.note.Note D>, <music21.note.Note F>, <music21.chord.Chord D>, <music21.note.Note G>, <music21.note.Note D>, <music21.note.Note D>, <music21.note.Note E>, <music21.note.Note A>, <music21.note.Note G>, <music21.note.Note A>, <music21.note.Note F>, <music21.note.Note G>, <music21.note.Note D>, <music21.note.Note G>, <music21.chord.Chord C E>, <music21.note.Note D>, <music21.note.Note D>, <music21.note.Note D>, <music21.note.Note D>, <music21.note.Note D>, <music21.note.Note G>, <music21.note.Note D>, <music21.note.Note E>, <music21.note.Note D>, <music21.note.Note G>, <music21.note.Note C>, <music21.chord.Chord C E>, <music21.note.Note E>, <music21.note.Note E>, <music21.note.Note A>, <music21.note.Note D>, <music21.note.Note E>, <music21.note.Note D>, <music21.note.Note B>, <music21.note.Note F#>, <music21.note.Note D>, <music21.note.Note F>, <music21.note.Note C>, <music21.chord.Chord C E>, <music21.note.Note E>, <music21.note.Note E>, <music21.note.Note C>, <music21.note.Note G>, <music21.note.Note G>, <music21.note.Note B>, <music21.note.Note G>, <music21.note.Note B->, <music21.note.Note G>, <music21.note.Note G>, <music21.note.Note C>, <music21.chord.Chord D G>, <music21.note.Note E>, <music21.note.Note A>, <music21.note.Note D>, <music21.note.Note F>, <music21.note.Note G>, <music21.note.Note D>, <music21.note.Note F>, <music21.note.Note F>, <music21.note.Note D>, <music21.note.Note F>, <music21.note.Note E>, <music21.chord.Chord C E>, <music21.note.Note E>, <music21.note.Note G>, <music21.note.Note F>, <music21.note.Note G>, <music21.note.Note E>, <music21.note.Note G>, <music21.note.Note E>, <music21.note.Note G>, <music21.note.Note G>, <music21.note.Note A>, <music21.note.Note G>, <music21.note.Note A>, <music21.note.Note G>, <music21.note.Note C>, <music21.note.Note G>, <music21.note.Note C>, <music21.note.Note C>, <music21.note.Note B>, <music21.note.Note G>, <music21.note.Note C>, <music21.chord.Chord C E>, <music21.note.Note D>, <music21.note.Note E>, <music21.note.Note D>, <music21.note.Note D>, <music21.note.Note E>, <music21.note.Note G>, <music21.note.Note E>, <music21.note.Note E>, <music21.note.Note E>, <music21.note.Note G>, <music21.note.Note C>, <music21.chord.Chord C E>, <music21.note.Note F>, <music21.note.Note E>, <music21.note.Note C>, <music21.note.Note D>, <music21.note.Note G>, <music21.note.Note G>, <music21.note.Note D>, <music21.note.Note E>, <music21.note.Note E>, <music21.note.Note F>, <music21.note.Note C>, <music21.chord.Chord C E>, <music21.note.Note E>, <music21.note.Note G>, <music21.note.Note C>, <music21.note.Note D>, <music21.note.Note E>, <music21.note.Note G>, <music21.note.Note C>, <music21.note.Note E>, <music21.note.Note E>, <music21.note.Note F>, <music21.note.Note C>, <music21.chord.Chord C E>, <music21.note.Note E>, <music21.note.Note E>, <music21.note.Note C>, <music21.note.Note D>, <music21.note.Note E>, <music21.note.Note G>, <music21.note.Note E>, <music21.note.Note B>, <music21.note.Note F>, <music21.note.Note E>, <music21.chord.Chord C E>, <music21.note.Note F>, <music21.note.Note G>, <music21.note.Note C>, <music21.note.Note G>, <music21.note.Note E>, <music21.note.Note G>, <music21.note.Note E>, <music21.note.Note G>, <music21.note.Note G>, <music21.note.Note C>, <music21.note.Note E>, <music21.note.Note G>, <music21.note.Note G>, <music21.note.Note B->, <music21.note.Note E>, <music21.note.Note B->, <music21.note.Note G>, <music21.note.Note C>, <music21.note.Note E>, <music21.note.Note C>, <music21.note.Note G>, <music21.note.Note C>, <music21.note.Note G>, <music21.note.Note G>, <music21.chord.Chord C E>, <music21.note.Note D>, <music21.note.Note E>, <music21.note.Note D>, <music21.note.Note E>, <music21.note.Note E>]\n"
     ]
    }
   ],
   "source": [
    "print(output_notes)"
   ]
  },
  {
   "cell_type": "code",
   "execution_count": 13,
   "metadata": {},
   "outputs": [
    {
     "data": {
      "text/plain": [
       "'./Output Music/test_output.mid'"
      ]
     },
     "execution_count": 13,
     "metadata": {},
     "output_type": "execute_result"
    }
   ],
   "source": [
    "# create a stream object from the generated notes\n",
    "midi_stream = stream.Stream(output_notes)\n",
    "midi_stream.write('midi', fp = \"./Output Music/test_output.mid\")"
   ]
  },
  {
   "cell_type": "code",
   "execution_count": null,
   "metadata": {},
   "outputs": [],
   "source": []
  }
 ],
 "metadata": {
  "kernelspec": {
   "display_name": "Python 3",
   "language": "python",
   "name": "python3"
  },
  "language_info": {
   "codemirror_mode": {
    "name": "ipython",
    "version": 3
   },
   "file_extension": ".py",
   "mimetype": "text/x-python",
   "name": "python",
   "nbconvert_exporter": "python",
   "pygments_lexer": "ipython3",
   "version": "3.6.10"
  }
 },
 "nbformat": 4,
 "nbformat_minor": 2
}
