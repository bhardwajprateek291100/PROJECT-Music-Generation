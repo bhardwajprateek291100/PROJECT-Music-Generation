{
 "cells": [
  {
   "cell_type": "code",
   "execution_count": 1,
   "metadata": {
    "colab": {
     "base_uri": "https://localhost:8080/",
     "height": 35
    },
    "colab_type": "code",
    "executionInfo": {
     "elapsed": 11179,
     "status": "ok",
     "timestamp": 1593295592520,
     "user": {
      "displayName": "PRATEEK BHARDWAJ",
      "photoUrl": "",
      "userId": "06364148084191331582"
     },
     "user_tz": -330
    },
    "id": "_-HlK8E2lf0q",
    "outputId": "2dbed82f-9aa1-4c43-f827-29bec462ba02"
   },
   "outputs": [
    {
     "data": {
      "application/vnd.google.colaboratory.intrinsic": {
       "type": "string"
      },
      "text/plain": [
       "'/device:GPU:0'"
      ]
     },
     "execution_count": 1,
     "metadata": {
      "tags": []
     },
     "output_type": "execute_result"
    }
   ],
   "source": [
    "import tensorflow as tf\n",
    "tf.test.gpu_device_name()"
   ]
  },
  {
   "cell_type": "code",
   "execution_count": 2,
   "metadata": {
    "colab": {
     "base_uri": "https://localhost:8080/",
     "height": 35
    },
    "colab_type": "code",
    "executionInfo": {
     "elapsed": 4550,
     "status": "ok",
     "timestamp": 1593295597100,
     "user": {
      "displayName": "PRATEEK BHARDWAJ",
      "photoUrl": "",
      "userId": "06364148084191331582"
     },
     "user_tz": -330
    },
    "id": "mPup6OS4KhTi",
    "outputId": "86530c95-4860-4cf2-b987-42ce4dba24d8"
   },
   "outputs": [
    {
     "name": "stderr",
     "output_type": "stream",
     "text": [
      "Using TensorFlow backend.\n"
     ]
    }
   ],
   "source": [
    "import glob\n",
    "import pickle\n",
    "import numpy as np\n",
    "from music21 import converter, instrument, note, chord, stream\n",
    "from keras.models import Sequential, load_model\n",
    "from keras.layers import Dense\n",
    "from keras.layers import Dropout\n",
    "from keras.layers import LSTM\n",
    "from keras.layers import Activation\n",
    "from keras.utils import np_utils\n",
    "from keras.callbacks import ModelCheckpoint, EarlyStopping"
   ]
  },
  {
   "cell_type": "markdown",
   "metadata": {
    "colab_type": "text",
    "id": "ylcVTOVdKhT-"
   },
   "source": [
    "### loading Data"
   ]
  },
  {
   "cell_type": "code",
   "execution_count": 3,
   "metadata": {
    "colab": {
     "base_uri": "https://localhost:8080/",
     "height": 124
    },
    "colab_type": "code",
    "executionInfo": {
     "elapsed": 35889,
     "status": "ok",
     "timestamp": 1593295637544,
     "user": {
      "displayName": "PRATEEK BHARDWAJ",
      "photoUrl": "",
      "userId": "06364148084191331582"
     },
     "user_tz": -330
    },
    "id": "FGNCklQrKqGc",
    "outputId": "ad362052-14d6-4aa8-9734-f5e1d843ae3b"
   },
   "outputs": [
    {
     "name": "stdout",
     "output_type": "stream",
     "text": [
      "Go to this URL in a browser: https://accounts.google.com/o/oauth2/auth?client_id=947318989803-6bn6qk8qdgf4n4g3pfee6491hc0brc4i.apps.googleusercontent.com&redirect_uri=urn%3aietf%3awg%3aoauth%3a2.0%3aoob&response_type=code&scope=email%20https%3a%2f%2fwww.googleapis.com%2fauth%2fdocs.test%20https%3a%2f%2fwww.googleapis.com%2fauth%2fdrive%20https%3a%2f%2fwww.googleapis.com%2fauth%2fdrive.photos.readonly%20https%3a%2f%2fwww.googleapis.com%2fauth%2fpeopleapi.readonly\n",
      "\n",
      "Enter your authorization code:\n",
      "··········\n",
      "Mounted at /content/drive\n"
     ]
    }
   ],
   "source": [
    "from google.colab import drive\n",
    "drive.mount('/content/drive')"
   ]
  },
  {
   "cell_type": "code",
   "execution_count": 8,
   "metadata": {
    "colab": {},
    "colab_type": "code",
    "executionInfo": {
     "elapsed": 1678,
     "status": "ok",
     "timestamp": 1593296854815,
     "user": {
      "displayName": "PRATEEK BHARDWAJ",
      "photoUrl": "",
      "userId": "06364148084191331582"
     },
     "user_tz": -330
    },
    "id": "1Z-6F4nkKhUB"
   },
   "outputs": [],
   "source": [
    "with open(\"/content/drive/My Drive/Files/network_input.pkl\", 'rb') as f:\n",
    "    network_input = pickle.load(f)\n",
    "with open(\"/content/drive/My Drive/Files/network_output.pkl\", 'rb') as f:\n",
    "    network_output = pickle.load(f)\n",
    "with open(\"/content/drive/My Drive/Files/notes.pkl\", 'rb') as f:\n",
    "    notes= pickle.load(f)"
   ]
  },
  {
   "cell_type": "code",
   "execution_count": 5,
   "metadata": {
    "colab": {},
    "colab_type": "code",
    "executionInfo": {
     "elapsed": 2399,
     "status": "ok",
     "timestamp": 1593295652274,
     "user": {
      "displayName": "PRATEEK BHARDWAJ",
      "photoUrl": "",
      "userId": "06364148084191331582"
     },
     "user_tz": -330
    },
    "id": "DXv8nb3NKhUN"
   },
   "outputs": [],
   "source": [
    "n_vocab = len(set(notes))"
   ]
  },
  {
   "cell_type": "markdown",
   "metadata": {
    "colab_type": "text",
    "id": "RRy1V52BKhUY"
   },
   "source": [
    "## Load Model"
   ]
  },
  {
   "cell_type": "code",
   "execution_count": 9,
   "metadata": {
    "colab": {},
    "colab_type": "code",
    "executionInfo": {
     "elapsed": 6786,
     "status": "ok",
     "timestamp": 1593296872164,
     "user": {
      "displayName": "PRATEEK BHARDWAJ",
      "photoUrl": "",
      "userId": "06364148084191331582"
     },
     "user_tz": -330
    },
    "id": "7RZaec1r0CIF"
   },
   "outputs": [],
   "source": [
    "model = load_model(\"/content/drive/My Drive/weights-improvement-46-0.6686-bigger.hdf5\")"
   ]
  },
  {
   "cell_type": "code",
   "execution_count": null,
   "metadata": {
    "colab": {
     "base_uri": "https://localhost:8080/",
     "height": 52
    },
    "colab_type": "code",
    "id": "OLwENuk0lbS8",
    "outputId": "70797104-17cb-4fdb-839d-d76fef9c5d18"
   },
   "outputs": [
    {
     "name": "stdout",
     "output_type": "stream",
     "text": [
      "Epoch 1/100\n",
      "  384/60398 [..............................] - ETA: 4:00 - loss: 0.3924"
     ]
    }
   ],
   "source": [
    "\"\"\" train the neural network \"\"\"\n",
    "\n",
    "filepath = \"/content/drive/My Drive/model_2/weights-improvement-{epoch:02d}-{loss:.4f}-bigger.hdf5\"\n",
    "\n",
    "checkpoint = ModelCheckpoint(\n",
    "    filepath,\n",
    "    monitor='loss',\n",
    "    verbose=0,\n",
    "    save_best_only=True,\n",
    "    mode='min')\n",
    "\n",
    "callbacks_list = [checkpoint]\n",
    "\n",
    "model_his = model.fit(network_input, network_output, epochs=100, batch_size=128, callbacks=callbacks_list)"
   ]
  },
  {
   "cell_type": "code",
   "execution_count": null,
   "metadata": {
    "colab": {},
    "colab_type": "code",
    "id": "zdFFKYF1KhVY"
   },
   "outputs": [],
   "source": [
    "#### Run for 10 epochs "
   ]
  }
 ],
 "metadata": {
  "accelerator": "GPU",
  "colab": {
   "collapsed_sections": [],
   "name": "Model_Architecture_And_Training.ipynb",
   "provenance": []
  },
  "kernelspec": {
   "display_name": "Python 3",
   "language": "python",
   "name": "python3"
  },
  "language_info": {
   "codemirror_mode": {
    "name": "ipython",
    "version": 3
   },
   "file_extension": ".py",
   "mimetype": "text/x-python",
   "name": "python",
   "nbconvert_exporter": "python",
   "pygments_lexer": "ipython3",
   "version": "3.6.10"
  }
 },
 "nbformat": 4,
 "nbformat_minor": 1
}
