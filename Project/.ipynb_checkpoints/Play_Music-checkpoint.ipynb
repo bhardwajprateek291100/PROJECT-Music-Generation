{
 "cells": [
  {
   "cell_type": "code",
   "execution_count": 1,
   "metadata": {},
   "outputs": [],
   "source": [
    "from music21 import converter, instrument, note, chord, stream"
   ]
  },
  {
   "cell_type": "code",
   "execution_count": 6,
   "metadata": {},
   "outputs": [],
   "source": [
    "midi = converter.parse(\"Output Music/test_output.mid\")   ### provide path of music file"
   ]
  },
  {
   "cell_type": "code",
   "execution_count": 7,
   "metadata": {},
   "outputs": [
    {
     "data": {
      "text/html": [
       "\n",
       "                <div id='midiPlayerDiv2348'></div>\n",
       "                <link rel=\"stylesheet\" href=\"//cuthbertLab.github.io/music21j/css/m21.css\"\n",
       "                    type=\"text/css\" />\n",
       "                <script>\n",
       "                require.config({\n",
       "                    paths: {'music21': '//cuthbertLab.github.io/music21j/src/music21'}\n",
       "                });\n",
       "                require(['music21'], function() {\n",
       "                               mp = new music21.miditools.MidiPlayer();\n",
       "                               mp.addPlayer('#midiPlayerDiv2348');\n",
       "                               mp.base64Load('data:audio/midi;base64,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');\n",
       "                        });\n",
       "                </script>"
      ],
      "text/plain": [
       "<IPython.core.display.HTML object>"
      ]
     },
     "metadata": {},
     "output_type": "display_data"
    }
   ],
   "source": [
    "### play the music\n",
    "midi.show('midi')"
   ]
  }
 ],
 "metadata": {
  "kernelspec": {
   "display_name": "Python 3",
   "language": "python",
   "name": "python3"
  },
  "language_info": {
   "codemirror_mode": {
    "name": "ipython",
    "version": 3
   },
   "file_extension": ".py",
   "mimetype": "text/x-python",
   "name": "python",
   "nbconvert_exporter": "python",
   "pygments_lexer": "ipython3",
   "version": "3.6.10"
  }
 },
 "nbformat": 4,
 "nbformat_minor": 4
}
