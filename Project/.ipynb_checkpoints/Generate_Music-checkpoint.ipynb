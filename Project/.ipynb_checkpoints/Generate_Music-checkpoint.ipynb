{
 "cells": [
  {
   "cell_type": "code",
   "execution_count": 35,
   "metadata": {},
   "outputs": [],
   "source": [
    "import glob\n",
    "import pickle\n",
    "import numpy as np\n",
    "from music21 import converter, instrument, note, chord, stream\n",
    "from keras.models import Sequential, load_model\n",
    "from keras.layers import Dense\n",
    "from keras.layers import Dropout\n",
    "from keras.layers import LSTM\n",
    "from keras.layers import Activation\n",
    "from keras.utils import np_utils\n",
    "from keras.callbacks import ModelCheckpoint, EarlyStopping"
   ]
  },
  {
   "cell_type": "markdown",
   "metadata": {},
   "source": [
    "## Load Model"
   ]
  },
  {
   "cell_type": "code",
   "execution_count": 37,
   "metadata": {},
   "outputs": [],
   "source": [
    "model = load_model(\"./Model/weights-improvement-15-1.1995-bigger.hdf5\")"
   ]
  },
  {
   "cell_type": "markdown",
   "metadata": {},
   "source": [
    "## Load Data"
   ]
  },
  {
   "cell_type": "code",
   "execution_count": 38,
   "metadata": {},
   "outputs": [],
   "source": [
    "with open(\"./Files/notes.pkl\", 'rb') as f:\n",
    "    notes= pickle.load(f)"
   ]
  },
  {
   "cell_type": "code",
   "execution_count": 39,
   "metadata": {},
   "outputs": [],
   "source": [
    "n_vocab = len(set(notes))"
   ]
  },
  {
   "cell_type": "code",
   "execution_count": 40,
   "metadata": {},
   "outputs": [],
   "source": [
    "# ALl the unique elements in a sorted manner\n",
    "pitchnames = sorted(set(item for item in notes))"
   ]
  },
  {
   "cell_type": "code",
   "execution_count": 41,
   "metadata": {},
   "outputs": [],
   "source": [
    "# Mapping between note to int value\n",
    "ele_to_int = dict((note, number) for number, note in enumerate(pitchnames))"
   ]
  },
  {
   "cell_type": "markdown",
   "metadata": {},
   "source": [
    "# Predictions"
   ]
  },
  {
   "cell_type": "code",
   "execution_count": 42,
   "metadata": {},
   "outputs": [],
   "source": [
    "sequence_length = 100\n",
    "network_input = []\n",
    "\n",
    "for i in range(len(notes) - sequence_length):\n",
    "    seq_in = notes[i : i+sequence_length] # contains 100 values\n",
    "    network_input.append([ele_to_int[ch] for ch in seq_in])"
   ]
  },
  {
   "cell_type": "code",
   "execution_count": 43,
   "metadata": {},
   "outputs": [],
   "source": [
    "# Any random start index\n",
    "start = np.random.randint(len(network_input) - 1)\n",
    "\n",
    "# Mapping int_to_ele\n",
    "int_to_ele = dict((num, ele) for num, ele in enumerate(pitchnames))\n",
    "\n",
    "# Initial pattern \n",
    "pattern = network_input[start]\n",
    "prediction_output = []\n",
    "\n",
    "# generate 200 elements\n",
    "for note_index in range(200):\n",
    "    prediction_input = np.reshape(pattern, (1, len(pattern), 1)) # convert into numpy desired shape \n",
    "    prediction_input = prediction_input/float(n_vocab) # normalise\n",
    "    \n",
    "    prediction =  model.predict(prediction_input, verbose=0)\n",
    "    \n",
    "    idx = np.argmax(prediction)\n",
    "    result = int_to_ele[idx]\n",
    "    prediction_output.append(result) \n",
    "    \n",
    "    # Remove the first value, and append the recent value.. \n",
    "    # This way input is moving forward step-by-step with time..\n",
    "    pattern.append(idx)\n",
    "    pattern = pattern[1:]"
   ]
  },
  {
   "cell_type": "code",
   "execution_count": 44,
   "metadata": {},
   "outputs": [
    {
     "name": "stdout",
     "output_type": "stream",
     "text": [
      "['B2', 'G3', '7+11', 'G3', 'F#2', 'G2', '7+0', 'G3', 'B2', 'G3', '7+11', 'G3', 'B2', 'A2', '7+0', 'A3', 'B2', 'G5', 'A5', 'D6', 'F#2', 'G3', 'B3', 'D6', 'B3', 'G3', 'B3', 'D6', 'B3', 'G3', 'B3', 'D6', 'B3', 'G3', 'B3', 'D6', 'B3', 'B5', 'B3', 'C3', 'G3', 'B5', 'C4', 'D4', 'B5', 'C3', 'C3', 'G3', 'B5', 'C4', 'B5', 'G3', 'B3', 'C3', 'G5', 'B5', 'C4', 'G5', 'B5', 'C4', 'G5', 'G5', 'B5', 'C4', 'G5', 'G3', 'D6', 'B3', 'C2', 'G3', 'B3', 'D4', 'B3', 'G3', 'B3', 'D6', 'B3', 'G3', 'B3', 'C3', 'D4', 'G5', 'B5', 'C4', 'G5', 'B5', 'C3', 'G5', 'G5', 'A5', 'D4', 'G5', 'G3', 'C3', 'C3', 'G5', 'B3', 'D6', 'D3', 'D3', 'B-2', 'B-2', 'F3', 'A2', 'B-2', 'C3', 'G5', 'B-2', 'C3', 'E-3', 'G2', 'B-2', 'C4', 'G5', 'D3', 'B-2', 'A3', 'G5', 'G5', 'E-3', 'B3', 'G2', 'G6', 'D6', 'B-2', '9+11', 'G3', 'D4', 'D6', 'G4', 'G5', 'D3', '7+0', 'D2', 'D4', '4+9', 'F2', 'C4', '9+0', 'C#5', 'C#5', 'C#5', 'A4', 'E4', 'C4', 'G4', 'G4', 'A4', 'D4', 'E4', 'D4', 'E4', 'D4', 'A3', 'A3', 'D4', 'D4', 'D4', 'E4', 'A3', 'D4', 'E4', 'E4', 'E4', 'A3', 'A3', 'E4', 'D4', 'G4', 'E4', 'A3', 'A3', 'E4', 'E5', 'A4', 'E4', 'A5', 'A3', 'G4', 'D4', 'A4', 'D4', 'A4', 'D4', 'A3', 'D4', 'F#4', 'A3', 'E4', 'E4', 'A3', 'E4', 'F#5', 'A3', 'E4', 'E5', 'B3', 'E4', 'F#5', 'E4']\n"
     ]
    }
   ],
   "source": [
    "print(prediction_output)"
   ]
  },
  {
   "cell_type": "markdown",
   "metadata": {},
   "source": [
    "## Create Midi File"
   ]
  },
  {
   "cell_type": "code",
   "execution_count": 45,
   "metadata": {},
   "outputs": [],
   "source": [
    "offset = 0 # Time\n",
    "output_notes = []\n",
    "\n",
    "for pattern in prediction_output:\n",
    "    \n",
    "    # if the pattern is a chord\n",
    "    if ('+' in pattern) or pattern.isdigit():\n",
    "        notes_in_chord = pattern.split('+')\n",
    "        temp_notes = []\n",
    "        for current_note in notes_in_chord:\n",
    "            new_note = note.Note(int(current_note))  # create Note object for each note in the chord\n",
    "            new_note.storedInstrument = instrument.Piano()\n",
    "            temp_notes.append(new_note)\n",
    "            \n",
    "        \n",
    "        new_chord = chord.Chord(temp_notes) # creates the chord() from the list of notes\n",
    "        new_chord.offset = offset\n",
    "        output_notes.append(new_chord)\n",
    "    \n",
    "    else:\n",
    "            # if the pattern is a note\n",
    "        new_note = note.Note(pattern)\n",
    "        new_note.offset = offset\n",
    "        new_note.storedInstrument = instrument.Piano()\n",
    "        output_notes.append(new_note)\n",
    "        \n",
    "    offset += 0.5"
   ]
  },
  {
   "cell_type": "code",
   "execution_count": 46,
   "metadata": {},
   "outputs": [
    {
     "data": {
      "text/plain": [
       "'./Output Music/test_output.mid'"
      ]
     },
     "execution_count": 46,
     "metadata": {},
     "output_type": "execute_result"
    }
   ],
   "source": [
    "# create a stream object from the generated notes\n",
    "midi_stream = stream.Stream(output_notes)\n",
    "midi_stream.write('midi', fp = \"./Output Music/test_output.mid\")"
   ]
  },
  {
   "cell_type": "code",
   "execution_count": 47,
   "metadata": {},
   "outputs": [
    {
     "data": {
      "text/html": [
       "\n",
       "                <div id='midiPlayerDiv10403'></div>\n",
       "                <link rel=\"stylesheet\" href=\"//cuthbertLab.github.io/music21j/css/m21.css\"\n",
       "                    type=\"text/css\" />\n",
       "                <script>\n",
       "                require.config({\n",
       "                    paths: {'music21': '//cuthbertLab.github.io/music21j/src/music21'}\n",
       "                });\n",
       "                require(['music21'], function() {\n",
       "                               mp = new music21.miditools.MidiPlayer();\n",
       "                               mp.addPlayer('#midiPlayerDiv10403');\n",
       "                               mp.base64Load('data:audio/midi;base64,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');\n",
       "                        });\n",
       "                </script>"
      ],
      "text/plain": [
       "<IPython.core.display.HTML object>"
      ]
     },
     "metadata": {},
     "output_type": "display_data"
    }
   ],
   "source": [
    "midi_stream.show('midi')"
   ]
  },
  {
   "cell_type": "code",
   "execution_count": null,
   "metadata": {},
   "outputs": [],
   "source": []
  }
 ],
 "metadata": {
  "kernelspec": {
   "display_name": "Python 3",
   "language": "python",
   "name": "python3"
  },
  "language_info": {
   "codemirror_mode": {
    "name": "ipython",
    "version": 3
   },
   "file_extension": ".py",
   "mimetype": "text/x-python",
   "name": "python",
   "nbconvert_exporter": "python",
   "pygments_lexer": "ipython3",
   "version": "3.6.10"
  }
 },
 "nbformat": 4,
 "nbformat_minor": 2
}
